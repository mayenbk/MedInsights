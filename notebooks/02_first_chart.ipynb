{
 "cells": [
  {
   "cell_type": "code",
   "source": [
    "import pandas as pd\n",
    "import matplotlib.pyplot as plt\n",
    "data = {'Department': ['Cardiology','Radiology','Oncology','Pediatrics'],\n",
    "        'Patients': [120, 90, 65, 150]}\n",
    "df = pd.DataFrame(data)\n",
    "df.plot(kind='bar', x='Department', y='Patients', color='teal')\n",
    "plt.title('Patient Visits per Department')\n",
    "plt.ylabel('Number of Patients')\n",
    "plt.show()"
   ],
   "metadata": {},
   "execution_count": None,
   "outputs": []
  }
 ],
 "metadata": {},
 "nbformat": 4,
 "nbformat_minor": 5
}
